{
  "nbformat": 4,
  "nbformat_minor": 0,
  "metadata": {
    "colab": {
      "provenance": [],
      "authorship_tag": "ABX9TyPyD7J5zHjxumVJebIM9G7K",
      "include_colab_link": true
    },
    "kernelspec": {
      "name": "python3",
      "display_name": "Python 3"
    },
    "language_info": {
      "name": "python"
    }
  },
  "cells": [
    {
      "cell_type": "markdown",
      "metadata": {
        "id": "view-in-github",
        "colab_type": "text"
      },
      "source": [
        "<a href=\"https://colab.research.google.com/github/DimpySingh001/NLP_analyzer/blob/main/NLP_analyzer_ipyn.ipynb\" target=\"_parent\"><img src=\"https://colab.research.google.com/assets/colab-badge.svg\" alt=\"Open In Colab\"/></a>"
      ]
    },
    {
      "cell_type": "code",
      "execution_count": null,
      "metadata": {
        "colab": {
          "base_uri": "https://localhost:8080/"
        },
        "id": "8EgdpjjELQS9",
        "outputId": "10f940fa-9a07-4365-f93d-46c2c2922e97"
      },
      "outputs": [
        {
          "output_type": "stream",
          "name": "stdout",
          "text": [
            "found a match am\n"
          ]
        }
      ],
      "source": [
        "import re\n",
        "\n",
        "text=\"i am a data scientist\"\n",
        "pattern=\"am\"\n",
        "\n",
        "match=re.search(pattern, text)\n",
        "if match:\n",
        "  print(\"found a match\",match.group())\n",
        "else:\n",
        "  print(\"no match found\")\n"
      ]
    },
    {
      "cell_type": "code",
      "source": [
        "text=\"I am a data analyst\"\n",
        "pattern=\"analyst\"\n",
        "replacement=\"scientist\"\n",
        "\n",
        "new_text=re.sub(pattern, replacement, text)\n",
        "print(\"original text:\", text)\n",
        "print(\"New text:\", new_text)"
      ],
      "metadata": {
        "colab": {
          "base_uri": "https://localhost:8080/"
        },
        "id": "4egd--K6L2mE",
        "outputId": "c10a42b2-345c-49f4-f2c4-d976ca7c6d3f"
      },
      "execution_count": null,
      "outputs": [
        {
          "output_type": "stream",
          "name": "stdout",
          "text": [
            "original text: I am a data analyst\n",
            "New text: I am a data scientist\n"
          ]
        }
      ]
    },
    {
      "cell_type": "code",
      "source": [
        "test1=\"Hey, this is best : for ! us;\"\n",
        "\n",
        "print(\"The original string is :\" +test1)\n",
        "res=re.sub(r'[^\\w\\s]','',test1)\n",
        "\n",
        "#printinf result\n",
        "\n",
        "print(\"The string after punctuation filter:\"+res)\n"
      ],
      "metadata": {
        "colab": {
          "base_uri": "https://localhost:8080/"
        },
        "id": "mKzMNJyFL2Z3",
        "outputId": "047d080a-fd58-4cb0-9b3d-b20eaa24c808"
      },
      "execution_count": null,
      "outputs": [
        {
          "output_type": "stream",
          "name": "stdout",
          "text": [
            "The original string is :Hey, this is best : for ! us;\n",
            "The string after punctuation filter:Hey this is best  for  us\n"
          ]
        }
      ]
    },
    {
      "cell_type": "code",
      "source": [
        "import nltk\n",
        "nltk.download('punkt_tab') #download the punkt tokenizer data\n",
        "\n",
        "text=\"This ia an example sentence, Another sentence is here.\"\n",
        "tokens=nltk.word_tokenize(text)\n",
        "\n",
        "print(tokens)"
      ],
      "metadata": {
        "colab": {
          "base_uri": "https://localhost:8080/"
        },
        "id": "oNSzQ-k5NqCf",
        "outputId": "7622c979-9a65-451a-cd55-5c0f31096dab"
      },
      "execution_count": null,
      "outputs": [
        {
          "output_type": "stream",
          "name": "stderr",
          "text": [
            "[nltk_data] Downloading package punkt_tab to /root/nltk_data...\n"
          ]
        },
        {
          "output_type": "stream",
          "name": "stdout",
          "text": [
            "['This', 'ia', 'an', 'example', 'sentence', ',', 'Another', 'sentence', 'is', 'here', '.']\n"
          ]
        },
        {
          "output_type": "stream",
          "name": "stderr",
          "text": [
            "[nltk_data]   Unzipping tokenizers/punkt_tab.zip.\n"
          ]
        }
      ]
    },
    {
      "cell_type": "code",
      "source": [
        "text=\"This isn the sentense.This is the second sentence.And this is the third sentence.\"\n",
        "sentences=nltk.sent_tokenize(text)\n",
        "print(sentences)"
      ],
      "metadata": {
        "colab": {
          "base_uri": "https://localhost:8080/"
        },
        "id": "8qfnZB-oNppP",
        "outputId": "2c385047-d056-41be-b9bf-8110c679e4c3"
      },
      "execution_count": null,
      "outputs": [
        {
          "output_type": "stream",
          "name": "stdout",
          "text": [
            "['This isn the sentense.This is the second sentence.And this is the third sentence.']\n"
          ]
        }
      ]
    },
    {
      "cell_type": "code",
      "source": [
        "from nltk.util import ngrams\n",
        "\n",
        "text=\"The quick brown fox jumps over the lazy dog.\"\n",
        "\n",
        "#Tokenize the text into individual words\n",
        "token=nltk.word_tokenize(text)\n",
        "\n",
        "#Generate bigrams and trigrams from the tokens\n",
        "bigrams=list(ngrams(token,2))\n",
        "trigrams=list(ngrams(token,3))\n",
        "\n",
        "print(\"original text:\",text)\n",
        "print(\"\\nTokens:\",token)\n",
        "print(\"\\nBigrams:\",bigrams)\n",
        "print(\"\\nTrigrams:\",trigrams)"
      ],
      "metadata": {
        "colab": {
          "base_uri": "https://localhost:8080/"
        },
        "id": "ghjQD6o1R_ND",
        "outputId": "4c58d3d8-c0d7-4830-c2e7-3b623197e157"
      },
      "execution_count": null,
      "outputs": [
        {
          "output_type": "stream",
          "name": "stdout",
          "text": [
            "original text: The quick brown fox jumps over the lazy dog.\n",
            "\n",
            "Tokens: ['The', 'quick', 'brown', 'fox', 'jumps', 'over', 'the', 'lazy', 'dog', '.']\n",
            "\n",
            "Bigrams: [('The', 'quick'), ('quick', 'brown'), ('brown', 'fox'), ('fox', 'jumps'), ('jumps', 'over'), ('over', 'the'), ('the', 'lazy'), ('lazy', 'dog'), ('dog', '.')]\n",
            "\n",
            "Trigrams: [('The', 'quick', 'brown'), ('quick', 'brown', 'fox'), ('brown', 'fox', 'jumps'), ('fox', 'jumps', 'over'), ('jumps', 'over', 'the'), ('over', 'the', 'lazy'), ('the', 'lazy', 'dog'), ('lazy', 'dog', '.')]\n"
          ]
        }
      ]
    },
    {
      "cell_type": "code",
      "source": [
        "from nltk.stem import PorterStemmer\n",
        "stemmer = PorterStemmer()\n",
        "\n",
        "word = \"running\"\n",
        "stemmed_word = stemmer.stem(word)\n",
        "print(stemmed_word)\n"
      ],
      "metadata": {
        "colab": {
          "base_uri": "https://localhost:8080/"
        },
        "id": "7VxzPPxESl2R",
        "outputId": "2d4552e2-2ac9-4073-b704-73b414d8dd4a"
      },
      "execution_count": null,
      "outputs": [
        {
          "output_type": "stream",
          "name": "stdout",
          "text": [
            "run\n"
          ]
        }
      ]
    },
    {
      "cell_type": "code",
      "source": [
        "import nltk\n",
        "nltk.download('omw-1.4')\n",
        "from nltk.stem import WordNetLemmatizer\n",
        "nltk.download('wordnet')   #download the wordnet corpus\n",
        "\n",
        "lemmatizer = WordNetLemmatizer()\n",
        "\n",
        "word=\"running\"\n",
        "lemma_word=lemmatizer.lemmatize(word,pos=\"v\")  #specify the part of speech as verb (v)\n",
        "\n",
        "print(lemma_word)  #output:run"
      ],
      "metadata": {
        "colab": {
          "base_uri": "https://localhost:8080/"
        },
        "id": "VdSvczONTLLX",
        "outputId": "f8b62dee-634e-4c46-f720-ccc168d7a1c2"
      },
      "execution_count": null,
      "outputs": [
        {
          "output_type": "stream",
          "name": "stderr",
          "text": [
            "[nltk_data] Downloading package omw-1.4 to /root/nltk_data...\n",
            "[nltk_data] Downloading package wordnet to /root/nltk_data...\n"
          ]
        },
        {
          "output_type": "stream",
          "name": "stdout",
          "text": [
            "run\n"
          ]
        }
      ]
    },
    {
      "cell_type": "code",
      "source": [
        "from nltk.corpus import stopwords\n",
        "nltk.download('stopwords')  #download the stop words corpus\n",
        "stop_words = set(stopwords.words('english'))\n",
        "\n",
        "text=\"this is an example sentence that includes stop words\"\n",
        "tokens=nltk.word_tokenize(text)\n",
        "\n",
        "filtered_tokens=[word for word in tokens if word.lower() not in stop_words]\n",
        "\n",
        "filtered_text=' '.join(filtered_tokens)\n",
        "\n",
        "print(\"data\",filtered_text)   # output:example sentence includes stop words"
      ],
      "metadata": {
        "colab": {
          "base_uri": "https://localhost:8080/"
        },
        "id": "elttl-qsT9bx",
        "outputId": "bee998b4-d9dd-4872-bcfb-4eb54a2716f1"
      },
      "execution_count": null,
      "outputs": [
        {
          "output_type": "stream",
          "name": "stdout",
          "text": [
            "data example sentence includes stop words\n"
          ]
        },
        {
          "output_type": "stream",
          "name": "stderr",
          "text": [
            "[nltk_data] Downloading package stopwords to /root/nltk_data...\n",
            "[nltk_data]   Package stopwords is already up-to-date!\n"
          ]
        }
      ]
    },
    {
      "cell_type": "code",
      "source": [
        "from nltk.tokenize import word_tokenize\n",
        "nltk.download('averaged_perceptron_tagger_eng')\n",
        "\n",
        "text=\"The quick brown fox jumps over the lazy dog.\"\n",
        "tokens=word_tokenize(text)\n",
        "pos_tags=nltk.pos_tag(tokens)\n",
        "\n",
        "print(pos_tags)"
      ],
      "metadata": {
        "colab": {
          "base_uri": "https://localhost:8080/"
        },
        "id": "e4eP4Y2sV2Zv",
        "outputId": "266e84c6-110d-48af-9e2a-f6601b5bd032"
      },
      "execution_count": 17,
      "outputs": [
        {
          "output_type": "stream",
          "name": "stderr",
          "text": [
            "[nltk_data] Downloading package averaged_perceptron_tagger_eng to\n",
            "[nltk_data]     /root/nltk_data...\n",
            "[nltk_data]   Unzipping taggers/averaged_perceptron_tagger_eng.zip.\n"
          ]
        },
        {
          "output_type": "stream",
          "name": "stdout",
          "text": [
            "[('The', 'DT'), ('quick', 'JJ'), ('brown', 'NN'), ('fox', 'NN'), ('jumps', 'VBZ'), ('over', 'IN'), ('the', 'DT'), ('lazy', 'JJ'), ('dog', 'NN'), ('.', '.')]\n"
          ]
        }
      ]
    },
    {
      "cell_type": "code",
      "source": [
        "#NER\n",
        "\n",
        "from nltk import pos_tag, ne_chunk\n",
        "nltk.download('maxent_ne_chunker_tab')\n",
        "nltk.download('words')\n",
        "#Define the text\n",
        "\n",
        "text=\"Apple is expected to launch its new iphone in September at the Steve Jobs Theater in California\"\n",
        "\n",
        "#Tokenize the text\n",
        "\n",
        "tokens=word_tokenize(text)\n",
        "\n",
        "#Perform part_of_speech tagging on the tokens\n",
        "tagged=pos_tag(tokens)\n",
        "\n",
        "#performnamed entity recognition on the tagged text\n",
        "ne=ne_chunk(tagged)\n",
        "\n",
        "#print the named entities\n",
        "\n",
        "for chunk in ne:\n",
        "  if hasattr(chunk, 'label'):\n",
        "    print(chunk.label(), ' '.join(c[0] for c in chunk))"
      ],
      "metadata": {
        "colab": {
          "base_uri": "https://localhost:8080/"
        },
        "id": "6FokLHJhWlON",
        "outputId": "e2dbdd0e-12d1-4b58-bef5-c855a25fb273"
      },
      "execution_count": 22,
      "outputs": [
        {
          "output_type": "stream",
          "name": "stderr",
          "text": [
            "[nltk_data] Downloading package maxent_ne_chunker_tab to\n",
            "[nltk_data]     /root/nltk_data...\n",
            "[nltk_data]   Package maxent_ne_chunker_tab is already up-to-date!\n",
            "[nltk_data] Downloading package words to /root/nltk_data...\n",
            "[nltk_data]   Package words is already up-to-date!\n"
          ]
        },
        {
          "output_type": "stream",
          "name": "stdout",
          "text": [
            "GPE Apple\n",
            "PERSON Steve Jobs\n",
            "GPE California\n"
          ]
        }
      ]
    },
    {
      "cell_type": "code",
      "source": [
        "from nltk.sentiment import SentimentIntensityAnalyzer\n",
        "nltk.download('vader_lexicon')\n",
        "#initialize the sentence analyzer\n",
        "sid=SentimentIntensityAnalyzer()\n",
        "\n",
        "#Sample text\n",
        "text=\"I hate this product! It Would not work perfectly and I would definitely recommend it to anyone\"\n",
        "\n",
        "#Compute the sentiment across for the text\n",
        "scores=sid.polarity_scores(text)\n",
        "\n",
        "#print the sentiment scores\n",
        "print(scores)"
      ],
      "metadata": {
        "colab": {
          "base_uri": "https://localhost:8080/"
        },
        "id": "PeRHkXMrWk_2",
        "outputId": "9f25e4a7-38b9-4850-aa62-17031a9540e9"
      },
      "execution_count": 27,
      "outputs": [
        {
          "output_type": "stream",
          "name": "stdout",
          "text": [
            "{'neg': 0.312, 'neu': 0.467, 'pos': 0.221, 'compound': -0.4871}\n"
          ]
        },
        {
          "output_type": "stream",
          "name": "stderr",
          "text": [
            "[nltk_data] Downloading package vader_lexicon to /root/nltk_data...\n",
            "[nltk_data]   Package vader_lexicon is already up-to-date!\n"
          ]
        }
      ]
    }
  ]
}